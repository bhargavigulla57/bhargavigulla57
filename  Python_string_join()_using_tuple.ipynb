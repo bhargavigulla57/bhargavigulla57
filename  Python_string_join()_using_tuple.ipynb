{
  "nbformat": 4,
  "nbformat_minor": 0,
  "metadata": {
    "colab": {
      "provenance": [],
      "authorship_tag": "ABX9TyOc2RrzZM5iiL0baAChx0hz",
      "include_colab_link": true
    },
    "kernelspec": {
      "name": "python3",
      "display_name": "Python 3"
    },
    "language_info": {
      "name": "python"
    }
  },
  "cells": [
    {
      "cell_type": "markdown",
      "metadata": {
        "id": "view-in-github",
        "colab_type": "text"
      },
      "source": [
        "<a href=\"https://colab.research.google.com/github/bhargavigulla57/bhargavigulla57/blob/main/%20Python_string_join()_using_tuple.ipynb\" target=\"_parent\"><img src=\"https://colab.research.google.com/assets/colab-badge.svg\" alt=\"Open In Colab\"/></a>"
      ]
    },
    {
      "cell_type": "code",
      "execution_count": 1,
      "metadata": {
        "colab": {
          "base_uri": "https://localhost:8080/"
        },
        "id": "T8ZFPSxdjCro",
        "outputId": "c23fd19d-e236-4954-b577-11255a7d1cb3"
      },
      "outputs": [
        {
          "output_type": "stream",
          "name": "stdout",
          "text": [
            "1-2-3-4\n"
          ]
        }
      ],
      "source": [
        "# elements in tuples\n",
        "list1 = ('1', '2', '3', '4')\n",
        "\n",
        "# put any character to join\n",
        "s = \"-\"\n",
        "\n",
        "# joins elements of list1 by '-'\n",
        "# and stores in string s\n",
        "s = s.join(list1)\n",
        "\n",
        "# join use to join a list of\n",
        "# strings to a separator s\n",
        "print(s)\n"
      ]
    }
  ]
}